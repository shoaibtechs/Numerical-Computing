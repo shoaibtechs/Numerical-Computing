{
 "cells": [
  {
   "cell_type": "markdown",
   "metadata": {},
   "source": [
    "# Dense Representation of Matrix "
   ]
  },
  {
   "cell_type": "markdown",
   "metadata": {},
   "source": [
    "### In dense representation we save the zeros and wastes our memory which is not a good practice. "
   ]
  },
  {
   "cell_type": "code",
   "execution_count": 25,
   "metadata": {},
   "outputs": [],
   "source": [
    "class Matrix:\n",
    "    \n",
    "    def __init__(self, dims, fill):\n",
    "        self.rows = dims[0]\n",
    "        self.cols = dims[1]\n",
    "        \n",
    "        self.A = [\n",
    "            \n",
    "            [fill] * self.cols \n",
    "            for i in range(self.rows )\n",
    "            \n",
    "            \n",
    "            \n",
    "        ]\n"
   ]
  },
  {
   "cell_type": "code",
   "execution_count": 26,
   "metadata": {},
   "outputs": [
    {
     "name": "stdout",
     "output_type": "stream",
     "text": [
      "<__main__.Matrix object at 0x7fc03c8ce990>\n"
     ]
    }
   ],
   "source": [
    "m = Matrix((3,4),2.0)\n",
    "print(m) # This Will print the adress "
   ]
  },
  {
   "cell_type": "code",
   "execution_count": 27,
   "metadata": {
    "scrolled": true
   },
   "outputs": [
    {
     "name": "stdout",
     "output_type": "stream",
     "text": [
      "[[2.0, 2.0, 2.0, 2.0], [2.0, 2.0, 2.0, 2.0], [2.0, 2.0, 2.0, 2.0]]\n"
     ]
    }
   ],
   "source": [
    "\"\"\"Basically for the better Understanding of list comprehension that is used in \"class matrix\" this code \n",
    "will definetily helps\"\"\"\n",
    "\n",
    "A = [ [2.0] * 4\n",
    "  \n",
    " for i in range(3)\n",
    "    \n",
    "]\n",
    "\n",
    "print(A)"
   ]
  },
  {
   "cell_type": "code",
   "execution_count": 28,
   "metadata": {},
   "outputs": [],
   "source": [
    "#As we saw earlier that when we were printing the the object of the MATRIX the adress was\n",
    "# printing but with the help of this Method we will get the values of the matrix.\n",
    "\n",
    "\n",
    "def __str__(self):\n",
    "    rows = len(self.A)\n",
    "    ret = ''\n",
    "    \n",
    "    for i in range(rows):\n",
    "        cols = len(self.A[i])\n",
    "        \n",
    "        for j in range(cols):\n",
    "            ret += str(self.A[i][j]) +\"\\t\"\n",
    "        ret += \"\\n\"\n",
    "        \n",
    "    return ret \n",
    "Matrix.__str__ = __str__ # Adding this Method to the class"
   ]
  },
  {
   "cell_type": "code",
   "execution_count": 31,
   "metadata": {},
   "outputs": [
    {
     "name": "stdout",
     "output_type": "stream",
     "text": [
      "CPU times: user 208 µs, sys: 44 µs, total: 252 µs\n",
      "Wall time: 265 µs\n"
     ]
    }
   ],
   "source": [
    "#we are creating the 100x100 matrix this command will tell us the time taken for this cell\n",
    "%time n =  Matrix((100,100),0.0) "
   ]
  },
  {
   "cell_type": "code",
   "execution_count": 32,
   "metadata": {
    "scrolled": true
   },
   "outputs": [
    {
     "name": "stdout",
     "output_type": "stream",
     "text": [
      "64\n",
      "64\n"
     ]
    }
   ],
   "source": [
    "#Why this 48 for both ???\n",
    "##Because this \"getsizeof library is only concerned with size of list not with the elements\"\n",
    "\n",
    "from sys import getsizeof\n",
    "print(getsizeof(m))\n",
    "print(getsizeof(n))"
   ]
  },
  {
   "cell_type": "code",
   "execution_count": 24,
   "metadata": {},
   "outputs": [
    {
     "name": "stdout",
     "output_type": "stream",
     "text": [
      "Collecting pympler\n",
      "  Downloading Pympler-1.0.1-py3-none-any.whl (164 kB)\n",
      "\u001b[K     |████████████████████████████████| 164 kB 414 kB/s eta 0:00:01\n",
      "\u001b[?25hInstalling collected packages: pympler\n",
      "Successfully installed pympler-1.0.1\n"
     ]
    }
   ],
   "source": [
    "#Now for size of elements we will do this to get the size of the elements \n",
    "\n",
    "!pip install pympler \n"
   ]
  },
  {
   "cell_type": "code",
   "execution_count": 22,
   "metadata": {},
   "outputs": [],
   "source": [
    "from pympler.asizeof import asizeof"
   ]
  },
  {
   "cell_type": "code",
   "execution_count": 33,
   "metadata": {},
   "outputs": [
    {
     "data": {
      "text/plain": [
       "(856, 88528)"
      ]
     },
     "execution_count": 33,
     "metadata": {},
     "output_type": "execute_result"
    }
   ],
   "source": [
    "asizeof(m), asizeof(n)\n",
    "\n",
    "#This is the actual size of the elements "
   ]
  },
  {
   "cell_type": "code",
   "execution_count": 32,
   "metadata": {},
   "outputs": [
    {
     "name": "stdout",
     "output_type": "stream",
     "text": [
      "CPU times: user 239 ms, sys: 108 ms, total: 347 ms\n",
      "Wall time: 346 ms\n",
      "191.12 MBs\n"
     ]
    }
   ],
   "source": [
    "#Now look for 5000 x 5000 looks huge time\n",
    "\n",
    "dim = 5000\n",
    "\n",
    "%time m = Matrix((dim,dim),0.0)\n",
    "\n",
    "size = asizeof(m)/(1024 *1024)\n",
    "print(\"{:.2f} MBs\".format(size))"
   ]
  },
  {
   "cell_type": "code",
   "execution_count": 40,
   "metadata": {},
   "outputs": [],
   "source": [
    "#If we want to get some particular value form the matrix then how can we get it???\n",
    "#For that now we will create a fucntion...\n",
    "\n",
    "def get(self, i,j):\n",
    "    \n",
    "    if i<0 or i> self.rows:\n",
    "        raise valyueError(\"Row is out of range\")\n",
    "    if j<0 or j> self.cols:\n",
    "        raise ValueError(\"Colums is out of range\")\n",
    "        \n",
    "    return A[i][j]\n",
    "\n",
    "#return[0] This will only work for this matrix only but 95 percents the matrix always contains the 0's \n",
    "#for that we will create a new class if the values are none zeros only then save them otherwise return 0 \n",
    "\n",
    "#-------------------------------"
   ]
  },
  {
   "cell_type": "markdown",
   "metadata": {},
   "source": [
    "# Sparse Representation of matrix"
   ]
  },
  {
   "cell_type": "markdown",
   "metadata": {},
   "source": [
    "### In sparse we dont save the zeros in matrix we only save non zero values and by doing this we can save alot of space and its a really good practice "
   ]
  },
  {
   "cell_type": "code",
   "execution_count": 2,
   "metadata": {},
   "outputs": [],
   "source": [
    "class Matrix:\n",
    "    \n",
    "    def __init__(self,dims):\n",
    "        self.rows = dims[0]\n",
    "        self.cols = dims[1]\n",
    "        self.vals = {}\n",
    "#yahan pe dictionary is filled with zeros"
   ]
  },
  {
   "cell_type": "code",
   "execution_count": 3,
   "metadata": {},
   "outputs": [],
   "source": [
    "def set(self, i, j, val):\n",
    "    self.vals[(i,j) ] =  val\n",
    "    \n",
    "\n",
    "Matrix.set = set \n",
    "#Iss Method se hum values set kar raha hai...."
   ]
  },
  {
   "cell_type": "code",
   "execution_count": 6,
   "metadata": {},
   "outputs": [],
   "source": [
    "#Ye function basically huma values return kar raha hai... \n",
    "\n",
    "\n",
    "def get(self, i, j):\n",
    "    \n",
    "    if i<0 or i>self.rows:\n",
    "        raise ValueError(\"Row index is out of range\")\n",
    "    if j<0 or j> self.cols:\n",
    "        raise ValueError(\"Column index is out of range\")\n",
    "  #Agar wo value matrix mn hogi toh ye return karega \n",
    "    if(i,j) in self.vals:\n",
    "        return self.vals[(i,j)]\n",
    "    \n",
    "    return 0.0\n",
    "\n",
    "\n",
    "Matrix.get =  get"
   ]
  },
  {
   "cell_type": "code",
   "execution_count": 7,
   "metadata": {},
   "outputs": [],
   "source": [
    "m = Matrix((5,5))"
   ]
  },
  {
   "cell_type": "code",
   "execution_count": 9,
   "metadata": {},
   "outputs": [
    {
     "name": "stdout",
     "output_type": "stream",
     "text": [
      "{}\n"
     ]
    }
   ],
   "source": [
    "print(m.vals) #khali dictonary because humne koi value set e nhi ki"
   ]
  },
  {
   "cell_type": "code",
   "execution_count": 11,
   "metadata": {},
   "outputs": [
    {
     "data": {
      "text/plain": [
       "0.0"
      ]
     },
     "execution_count": 11,
     "metadata": {},
     "output_type": "execute_result"
    }
   ],
   "source": [
    "m.get(1,1) #Still zeros becuase we haven't set the values "
   ]
  },
  {
   "cell_type": "code",
   "execution_count": 12,
   "metadata": {},
   "outputs": [],
   "source": [
    "m.set(1,2,15.0) # \"row 1\"  ki \"column 2\" pe 15.0 set kardo"
   ]
  },
  {
   "cell_type": "markdown",
   "metadata": {},
   "source": [
    " "
   ]
  },
  {
   "cell_type": "code",
   "execution_count": 14,
   "metadata": {},
   "outputs": [
    {
     "data": {
      "text/plain": [
       "15.0"
      ]
     },
     "execution_count": 14,
     "metadata": {},
     "output_type": "execute_result"
    }
   ],
   "source": [
    "m.get(1,2) #The value we set earlier"
   ]
  },
  {
   "cell_type": "code",
   "execution_count": 15,
   "metadata": {},
   "outputs": [],
   "source": [
    "m.set(1,4,29.9)"
   ]
  },
  {
   "cell_type": "code",
   "execution_count": 16,
   "metadata": {},
   "outputs": [
    {
     "data": {
      "text/plain": [
       "29.9"
      ]
     },
     "execution_count": 16,
     "metadata": {},
     "output_type": "execute_result"
    }
   ],
   "source": [
    "m.get(1,4)"
   ]
  },
  {
   "cell_type": "code",
   "execution_count": 18,
   "metadata": {},
   "outputs": [
    {
     "ename": "ValueError",
     "evalue": "Row index is out of range",
     "output_type": "error",
     "traceback": [
      "\u001b[0;31m---------------------------------------------------------------------------\u001b[0m",
      "\u001b[0;31mValueError\u001b[0m                                Traceback (most recent call last)",
      "\u001b[0;32m<ipython-input-18-d8a418bd752a>\u001b[0m in \u001b[0;36m<module>\u001b[0;34m\u001b[0m\n\u001b[0;32m----> 1\u001b[0;31m \u001b[0mm\u001b[0m\u001b[0;34m.\u001b[0m\u001b[0mget\u001b[0m\u001b[0;34m(\u001b[0m\u001b[0;36m23\u001b[0m\u001b[0;34m,\u001b[0m\u001b[0;36m9\u001b[0m\u001b[0;34m)\u001b[0m\u001b[0;31m#Error because humne 5x5 ki row banai hai\u001b[0m\u001b[0;34m\u001b[0m\u001b[0;34m\u001b[0m\u001b[0m\n\u001b[0m",
      "\u001b[0;32m<ipython-input-6-a818179bff6d>\u001b[0m in \u001b[0;36mget\u001b[0;34m(self, i, j)\u001b[0m\n\u001b[1;32m      5\u001b[0m \u001b[0;34m\u001b[0m\u001b[0m\n\u001b[1;32m      6\u001b[0m     \u001b[0;32mif\u001b[0m \u001b[0mi\u001b[0m\u001b[0;34m<\u001b[0m\u001b[0;36m0\u001b[0m \u001b[0;32mor\u001b[0m \u001b[0mi\u001b[0m\u001b[0;34m>\u001b[0m\u001b[0mself\u001b[0m\u001b[0;34m.\u001b[0m\u001b[0mrows\u001b[0m\u001b[0;34m:\u001b[0m\u001b[0;34m\u001b[0m\u001b[0;34m\u001b[0m\u001b[0m\n\u001b[0;32m----> 7\u001b[0;31m         \u001b[0;32mraise\u001b[0m \u001b[0mValueError\u001b[0m\u001b[0;34m(\u001b[0m\u001b[0;34m\"Row index is out of range\"\u001b[0m\u001b[0;34m)\u001b[0m\u001b[0;34m\u001b[0m\u001b[0;34m\u001b[0m\u001b[0m\n\u001b[0m\u001b[1;32m      8\u001b[0m     \u001b[0;32mif\u001b[0m \u001b[0mj\u001b[0m\u001b[0;34m<\u001b[0m\u001b[0;36m0\u001b[0m \u001b[0;32mor\u001b[0m \u001b[0mj\u001b[0m\u001b[0;34m>\u001b[0m \u001b[0mself\u001b[0m\u001b[0;34m.\u001b[0m\u001b[0mcols\u001b[0m\u001b[0;34m:\u001b[0m\u001b[0;34m\u001b[0m\u001b[0;34m\u001b[0m\u001b[0m\n\u001b[1;32m      9\u001b[0m         \u001b[0;32mraise\u001b[0m \u001b[0mValueError\u001b[0m\u001b[0;34m(\u001b[0m\u001b[0;34m\"Column index is out of range\"\u001b[0m\u001b[0;34m)\u001b[0m\u001b[0;34m\u001b[0m\u001b[0;34m\u001b[0m\u001b[0m\n",
      "\u001b[0;31mValueError\u001b[0m: Row index is out of range"
     ]
    }
   ],
   "source": [
    "m.get(23,9)#Error because humne 5x5 ki row banai hai "
   ]
  },
  {
   "cell_type": "code",
   "execution_count": 20,
   "metadata": {},
   "outputs": [],
   "source": [
    "dim =  500\n",
    "m   = Matrix((dim,dim))"
   ]
  },
  {
   "cell_type": "code",
   "execution_count": 24,
   "metadata": {},
   "outputs": [
    {
     "data": {
      "text/plain": [
       "632"
      ]
     },
     "execution_count": 24,
     "metadata": {},
     "output_type": "execute_result"
    }
   ],
   "source": [
    "asizeof(m) #Now with the sparse representation of matrix we have saved alot of space.This is 632 bytes and with the \"Dense representation\" it was 191 mega bytes"
   ]
  },
  {
   "cell_type": "code",
   "execution_count": null,
   "metadata": {},
   "outputs": [],
   "source": []
  }
 ],
 "metadata": {
  "kernelspec": {
   "display_name": "Python 3",
   "language": "python",
   "name": "python3"
  },
  "language_info": {
   "codemirror_mode": {
    "name": "ipython",
    "version": 3
   },
   "file_extension": ".py",
   "mimetype": "text/x-python",
   "name": "python",
   "nbconvert_exporter": "python",
   "pygments_lexer": "ipython3",
   "version": "3.7.6"
  }
 },
 "nbformat": 4,
 "nbformat_minor": 4
}
